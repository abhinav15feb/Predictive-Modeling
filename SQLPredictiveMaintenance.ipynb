{
 "cells": [
  {
   "cell_type": "markdown",
   "metadata": {},
   "source": [
    "# Data Preprocessing\n",
    "Step 1: Conver datetime feild to_datetime for all datafiles\n",
    "Step 2: Merge Machines data to telemetry data"
   ]
  },
  {
   "cell_type": "code",
   "execution_count": 1,
   "metadata": {},
   "outputs": [
    {
     "name": "stderr",
     "output_type": "stream",
     "text": [
      "Using TensorFlow backend.\n"
     ]
    }
   ],
   "source": [
    "import tensorflow, keras\n",
    "import pandas\n",
    "import numpy\n",
    "\n",
    "from sklearn import preprocessing\n",
    "from sklearn.metrics import confusion_matrix, recall_score, precision_score\n",
    "from keras.models import Sequential,load_model\n",
    "from keras.layers import Dense, Dropout, LSTM"
   ]
  },
  {
   "cell_type": "code",
   "execution_count": null,
   "metadata": {},
   "outputs": [],
   "source": [
    "errors = pandas.read_csv('/Users/abhi/Desktop/Sem 4/BNAD/SQL-Server-R-Services-Samples/PredictiveMaintanenceModelingGuide/Data/errors.csv')\n",
    "failures = pandas.read_csv('/Users/abhi/Desktop/Sem 4/BNAD/SQL-Server-R-Services-Samples/PredictiveMaintanenceModelingGuide/Data/failures.csv')\n",
    "machines = pandas.read_csv('/Users/abhi/Desktop/Sem 4/BNAD/SQL-Server-R-Services-Samples/PredictiveMaintanenceModelingGuide/Data/machines.csv')\n",
    "maintain = pandas.read_csv('/Users/abhi/Desktop/Sem 4/BNAD/SQL-Server-R-Services-Samples/PredictiveMaintanenceModelingGuide/Data/maint.csv')\n",
    "telemetry = pandas.read_csv('/Users/abhi/Desktop/Sem 4/BNAD/SQL-Server-R-Services-Samples/PredictiveMaintanenceModelingGuide/Data/telemetry.csv')"
   ]
  },
  {
   "cell_type": "code",
   "execution_count": null,
   "metadata": {},
   "outputs": [],
   "source": [
    "errors['datetime']=pandas.to_datetime(errors['datetime'])\n",
    "telemetry['datetime']=pandas.to_datetime(telemetry['datetime'])\n",
    "maintain['datetime']=pandas.to_datetime(maintain['datetime'])\n",
    "failures['datetime']=pandas.to_datetime(failures['datetime'])"
   ]
  },
  {
   "cell_type": "markdown",
   "metadata": {},
   "source": [
    "# Maintain pivot"
   ]
  },
  {
   "cell_type": "code",
   "execution_count": null,
   "metadata": {
    "scrolled": true
   },
   "outputs": [],
   "source": [
    "comp4 = maintain.iloc[numpy.where(maintain['comp']=='comp4')]\n",
    "comp3 = maintain.iloc[numpy.where(maintain['comp']=='comp3')]\n",
    "comp2 = maintain.iloc[numpy.where(maintain['comp']=='comp2')]\n",
    "comp1 = maintain.iloc[numpy.where(maintain['comp']=='comp1')]"
   ]
  },
  {
   "cell_type": "code",
   "execution_count": null,
   "metadata": {},
   "outputs": [],
   "source": [
    "maintain_pivot_t = (pandas.merge(comp4, comp3, on = ['datetime', 'machineID'], how = 'outer'))\n",
    "maintain_pivot_t = maintain_pivot_t.rename(columns={maintain_pivot_t.columns[2]:'comp4', maintain_pivot_t.columns[3]:'comp3'})"
   ]
  },
  {
   "cell_type": "code",
   "execution_count": null,
   "metadata": {},
   "outputs": [],
   "source": [
    "maintain_pivot_t2= pandas.merge(maintain_pivot_t, comp2, on = ['datetime', 'machineID'], how = 'outer')"
   ]
  },
  {
   "cell_type": "code",
   "execution_count": null,
   "metadata": {},
   "outputs": [],
   "source": [
    "maintain_pivot= pandas.merge(maintain_pivot_t2, comp1, on = ['datetime', 'machineID'], how = 'outer')\n"
   ]
  },
  {
   "cell_type": "code",
   "execution_count": null,
   "metadata": {
    "scrolled": true
   },
   "outputs": [],
   "source": [
    "maintain_pivot.rename(columns={maintain_pivot.columns[2]:'comp4', maintain_pivot.columns[3]:'comp3'})"
   ]
  },
  {
   "cell_type": "code",
   "execution_count": null,
   "metadata": {},
   "outputs": [],
   "source": [
    "maintain_pivot = maintain_pivot.fillna(0)\n",
    "maintain_pivot.loc[maintain_pivot['comp1'] == 'comp1', 'comp1'] = 1\n",
    "maintain_pivot.loc[maintain_pivot['comp2'] == 'comp2', 'comp2'] = 1\n",
    "maintain_pivot.loc[maintain_pivot['comp3'] == 'comp3', 'comp3'] = 1\n",
    "maintain_pivot.loc[maintain_pivot['comp4'] == 'comp4', 'comp4'] = 1"
   ]
  },
  {
   "cell_type": "code",
   "execution_count": null,
   "metadata": {
    "scrolled": true
   },
   "outputs": [],
   "source": [
    "maintain_pivot = maintain_pivot.rename(columns={maintain_pivot.columns[2]:'Mantain_comp4',maintain_pivot.columns[3]:'Mantain_comp3',maintain_pivot.columns[4]:'Mantain_comp2', maintain_pivot.columns[5]:'Mantain_comp1'})"
   ]
  },
  {
   "cell_type": "code",
   "execution_count": null,
   "metadata": {
    "scrolled": true
   },
   "outputs": [],
   "source": [
    "maintain_pivot"
   ]
  },
  {
   "cell_type": "markdown",
   "metadata": {},
   "source": [
    "# Error Pivot"
   ]
  },
  {
   "cell_type": "code",
   "execution_count": null,
   "metadata": {},
   "outputs": [],
   "source": [
    "error4 = errors.iloc[numpy.where(errors['errorID']=='error4')]\n",
    "error3 = errors.iloc[numpy.where(errors['errorID']=='error3')]\n",
    "error2 = errors.iloc[numpy.where(errors['errorID']=='error2')]\n",
    "error1 = errors.iloc[numpy.where(errors['errorID']=='error1')]"
   ]
  },
  {
   "cell_type": "code",
   "execution_count": null,
   "metadata": {},
   "outputs": [],
   "source": []
  },
  {
   "cell_type": "code",
   "execution_count": null,
   "metadata": {
    "scrolled": true
   },
   "outputs": [],
   "source": [
    "errors_pivot_t = (pandas.merge(error4, error3, on = ['datetime', 'machineID'], how = 'outer'))\n",
    "errors_pivot_t = errors_pivot_t.rename(columns={errors_pivot_t.columns[2]:'error4', errors_pivot_t.columns[3]:'error3'})"
   ]
  },
  {
   "cell_type": "code",
   "execution_count": null,
   "metadata": {},
   "outputs": [],
   "source": [
    "errors_pivot_t2= pandas.merge(errors_pivot_t, error2, on = ['datetime', 'machineID'], how = 'outer')\n",
    "errors_pivot= pandas.merge(errors_pivot_t2, error1, on = ['datetime', 'machineID'], how = 'outer')"
   ]
  },
  {
   "cell_type": "code",
   "execution_count": null,
   "metadata": {},
   "outputs": [],
   "source": [
    "errors_pivot = errors_pivot.rename(columns={errors_pivot.columns[4]:'error2', errors_pivot.columns[5]:'error1'})"
   ]
  },
  {
   "cell_type": "code",
   "execution_count": null,
   "metadata": {
    "scrolled": true
   },
   "outputs": [],
   "source": [
    "errors_pivot = errors_pivot.fillna(0)\n",
    "errors_pivot.loc[errors_pivot['error1'] == 'error1', 'error1'] = 1\n",
    "errors_pivot.loc[errors_pivot['error2'] == 'error2', 'error2'] = 1\n",
    "errors_pivot.loc[errors_pivot['error3'] == 'error3', 'error3'] = 1\n",
    "errors_pivot.loc[errors_pivot['error4'] == 'error4', 'error4'] = 1"
   ]
  },
  {
   "cell_type": "code",
   "execution_count": null,
   "metadata": {
    "scrolled": true
   },
   "outputs": [],
   "source": [
    "print(errors_pivot)"
   ]
  },
  {
   "cell_type": "markdown",
   "metadata": {},
   "source": [
    "# failures Pivot"
   ]
  },
  {
   "cell_type": "code",
   "execution_count": null,
   "metadata": {},
   "outputs": [],
   "source": [
    "comp4_1 = failures.iloc[numpy.where(failures['failure']=='comp4')]\n",
    "comp3_1 = failures.iloc[numpy.where(failures['failure']=='comp3')]\n",
    "comp2_1 = failures.iloc[numpy.where(failures['failure']=='comp2')]\n",
    "comp1_1 = failures.iloc[numpy.where(failures['failure']=='comp1')]"
   ]
  },
  {
   "cell_type": "code",
   "execution_count": null,
   "metadata": {},
   "outputs": [],
   "source": [
    "failures_pivot_t = (pandas.merge(comp4_1, comp3_1, on = ['datetime', 'machineID'], how = 'outer'))\n",
    "failures_pivot_t = failures_pivot_t.rename(columns={failures_pivot_t.columns[2]:'comp4', failures_pivot_t.columns[3]:'comp3'})"
   ]
  },
  {
   "cell_type": "code",
   "execution_count": null,
   "metadata": {},
   "outputs": [],
   "source": [
    "failures_pivot_t2= pandas.merge(failures_pivot_t, comp2_1, on = ['datetime', 'machineID'], how = 'outer')\n",
    "failures_pivot= pandas.merge(failures_pivot_t2, comp1_1, on = ['datetime', 'machineID'], how = 'outer')"
   ]
  },
  {
   "cell_type": "code",
   "execution_count": null,
   "metadata": {},
   "outputs": [],
   "source": [
    "failures_pivot = failures_pivot.rename(columns={failures_pivot.columns[4]:'comp2', failures_pivot.columns[5]:'comp1'})"
   ]
  },
  {
   "cell_type": "code",
   "execution_count": null,
   "metadata": {
    "scrolled": true
   },
   "outputs": [],
   "source": [
    "failures_pivot = failures_pivot.fillna(0)\n",
    "failures_pivot.loc[failures_pivot['comp1'] == 'comp1', 'comp1'] = 1\n",
    "failures_pivot.loc[failures_pivot['comp2'] == 'comp2', 'comp2'] = 1\n",
    "failures_pivot.loc[failures_pivot['comp3'] == 'comp3', 'comp3'] = 1\n",
    "failures_pivot.loc[failures_pivot['comp4'] == 'comp4', 'comp4'] = 1"
   ]
  },
  {
   "cell_type": "code",
   "execution_count": null,
   "metadata": {
    "scrolled": true
   },
   "outputs": [],
   "source": [
    "failures_pivot = failures_pivot.rename(columns={failures_pivot.columns[2]:'fail_comp4',failures_pivot.columns[3]:'fail_comp3',failures_pivot.columns[4]:'fail_comp2', failures_pivot.columns[5]:'fail_comp1'})"
   ]
  },
  {
   "cell_type": "code",
   "execution_count": null,
   "metadata": {
    "scrolled": true
   },
   "outputs": [],
   "source": [
    "failures_pivot"
   ]
  },
  {
   "cell_type": "markdown",
   "metadata": {},
   "source": [
    "# Data combining process "
   ]
  },
  {
   "cell_type": "code",
   "execution_count": null,
   "metadata": {},
   "outputs": [],
   "source": [
    "fulldata = pandas.merge(telemetry, machines, on = ['machineID'], how = 'outer')\n"
   ]
  },
  {
   "cell_type": "code",
   "execution_count": null,
   "metadata": {
    "scrolled": true
   },
   "outputs": [],
   "source": [
    "fulldata"
   ]
  },
  {
   "cell_type": "code",
   "execution_count": null,
   "metadata": {},
   "outputs": [],
   "source": [
    "fulldata1 = pandas.merge(fulldata, errors_pivot, on = ['datetime','machineID'], how = 'outer')\n",
    "fulldata2 = pandas.merge(fulldata1, maintain_pivot, on = ['datetime','machineID'], how = 'outer')\n",
    "fulldata3 = pandas.merge(fulldata2, failures_pivot, on = ['datetime','machineID'], how = 'outer')"
   ]
  },
  {
   "cell_type": "code",
   "execution_count": null,
   "metadata": {},
   "outputs": [],
   "source": [
    "fulldata3 = fulldata3.fillna(0)"
   ]
  },
  {
   "cell_type": "code",
   "execution_count": null,
   "metadata": {},
   "outputs": [],
   "source": [
    "print (telemetry.count())\n",
    "print (errors.count())\n",
    "print (maintain.count())\n",
    "print (failures.count())\n",
    "print(fulldata3.count())"
   ]
  },
  {
   "cell_type": "code",
   "execution_count": null,
   "metadata": {},
   "outputs": [],
   "source": [
    "fulldata3.to_csv('final_sql_data.csv', sep = ',',encoding='utf-8', index=False)"
   ]
  },
  {
   "cell_type": "markdown",
   "metadata": {},
   "source": [
    "# Read data and continue building Remaining Useful Life feature for failure and maintenance prediction"
   ]
  },
  {
   "cell_type": "code",
   "execution_count": null,
   "metadata": {},
   "outputs": [],
   "source": [
    "final_data = pandas.read_csv('final_sql_data.csv')"
   ]
  },
  {
   "cell_type": "markdown",
   "metadata": {},
   "source": [
    "Process -\n",
    "1. Add remaining useful life\n",
    "   if failure exists and last maintenance exist or assume start of time ie first entry of data for perticular machine in telemetry\n",
    "   Failure of component - Last Maintenance of component\n",
    "2. generate label columns for training data\n",
    "   we will only make use of \"label1\" for binary classification, \n",
    "   while trying to answer the question: is a specific engine going to fail within w1 cycles?\n",
    "   w1 = 30\n",
    "    w0 = 15\n",
    "    train_df['label1'] = np.where(train_df['RUL'] <= w1, 1, 0 )\n",
    "    train_df['label2'] = train_df['label1']\n",
    "    train_df.loc[train_df['RUL'] <= w0, 'label2'] = 2\n",
    "    "
   ]
  },
  {
   "cell_type": "code",
   "execution_count": null,
   "metadata": {},
   "outputs": [],
   "source": [
    "final_data = final_data.sort_values('datetime')"
   ]
  },
  {
   "cell_type": "code",
   "execution_count": null,
   "metadata": {},
   "outputs": [],
   "source": [
    "final_data['DateTillMaintain_comp1'] =final_data[(final_data['Mantain_comp1']==1)].datetime\n",
    "final_data['DateTillMaintain_comp2'] =final_data[(final_data['Mantain_comp2']==1)].datetime\n",
    "final_data['DateTillMaintain_comp3'] =final_data[(final_data['Mantain_comp3']==1)].datetime\n",
    "final_data['DateTillMaintain_comp4'] =final_data[(final_data['Mantain_comp4']==1)].datetime\n",
    "\n",
    "final_data['DateTillFailure_comp1'] =final_data[(final_data['fail_comp1']==1)].datetime\n",
    "final_data['DateTillFailure_comp2'] =final_data[(final_data['fail_comp2']==1)].datetime\n",
    "final_data['DateTillFailure_comp3'] =final_data[(final_data['fail_comp3']==1)].datetime\n",
    "final_data['DateTillFailure_comp4'] =final_data[(final_data['fail_comp4']==1)].datetime\n"
   ]
  },
  {
   "cell_type": "code",
   "execution_count": null,
   "metadata": {},
   "outputs": [],
   "source": [
    "final_data = final_data.fillna(method='bfill')"
   ]
  },
  {
   "cell_type": "code",
   "execution_count": null,
   "metadata": {
    "scrolled": true
   },
   "outputs": [],
   "source": [
    "\n",
    "final_data ['RULtillFail_comp1'] = (pandas.to_datetime(final_data['DateTillFailure_comp1'])- pandas.to_datetime(final_data['datetime'])).astype('timedelta64[h]')\n",
    "final_data ['RULtillFail_comp2'] = (pandas.to_datetime(final_data['DateTillFailure_comp2'])- pandas.to_datetime(final_data['datetime'])).astype('timedelta64[h]')\n",
    "final_data ['RULtillFail_comp3'] = (pandas.to_datetime(final_data['DateTillFailure_comp3'])- pandas.to_datetime(final_data['datetime'])).astype('timedelta64[h]')\n",
    "final_data ['RULtillFail_comp4'] = (pandas.to_datetime(final_data['DateTillFailure_comp4'])- pandas.to_datetime(final_data['datetime'])).astype('timedelta64[h]')\n",
    "\n",
    "final_data ['RULtillMaintain_comp1'] = (pandas.to_datetime(final_data['DateTillMaintain_comp1'])- pandas.to_datetime(final_data['datetime'])).astype('timedelta64[h]')\n",
    "final_data ['RULtillMaintain_comp2'] = (pandas.to_datetime(final_data['DateTillMaintain_comp2'])- pandas.to_datetime(final_data['datetime'])).astype('timedelta64[h]')\n",
    "final_data ['RULtillMaintain_comp3'] = (pandas.to_datetime(final_data['DateTillMaintain_comp3'])- pandas.to_datetime(final_data['datetime'])).astype('timedelta64[h]')\n",
    "final_data ['RULtillMaintain_comp4'] = (pandas.to_datetime(final_data['DateTillMaintain_comp4'])- pandas.to_datetime(final_data['datetime'])).astype('timedelta64[h]')\n",
    "\n"
   ]
  },
  {
   "cell_type": "code",
   "execution_count": null,
   "metadata": {},
   "outputs": [],
   "source": [
    "final_data.columns"
   ]
  },
  {
   "cell_type": "code",
   "execution_count": null,
   "metadata": {},
   "outputs": [],
   "source": [
    "final_data.to_csv('predictors_sql_data.csv', sep = ',',encoding='utf-8', index=False)"
   ]
  },
  {
   "cell_type": "code",
   "execution_count": 2,
   "metadata": {},
   "outputs": [
    {
     "name": "stderr",
     "output_type": "stream",
     "text": [
      "/Users/abhi/miniconda3/lib/python3.6/site-packages/IPython/core/interactiveshell.py:2728: DtypeWarning: Columns (24,25,26,27) have mixed types. Specify dtype option on import or set low_memory=False.\n",
      "  interactivity=interactivity, compiler=compiler, result=result)\n"
     ]
    }
   ],
   "source": [
    "final_data= pandas.read_csv('predictors_sql_data.csv')"
   ]
  },
  {
   "cell_type": "code",
   "execution_count": 3,
   "metadata": {},
   "outputs": [],
   "source": [
    "final_data = final_data.loc[((final_data['datetime'])>='2015-01-01') & ((final_data['datetime'])<'2016-01-01')]"
   ]
  },
  {
   "cell_type": "code",
   "execution_count": null,
   "metadata": {},
   "outputs": [],
   "source": [
    "final_data[['RULtillFail_comp1','RULtillFail_comp2', 'RULtillFail_comp3','RULtillFail_comp4']].min()"
   ]
  },
  {
   "cell_type": "code",
   "execution_count": 4,
   "metadata": {},
   "outputs": [],
   "source": [
    "w1 = 12\n",
    "w0 = 6\n",
    "final_data['comp1_1stwarning'] = numpy.where(final_data['RULtillFail_comp1'] <= w1, 1, 0 )\n",
    "final_data['comp2_1stwarning'] = numpy.where(final_data['RULtillFail_comp2'] <= w1, 1, 0 )\n",
    "final_data['comp3_1stwarning'] = numpy.where(final_data['RULtillFail_comp3'] <= w1, 1, 0 )\n",
    "final_data['comp4_1stwarning'] = numpy.where(final_data['RULtillFail_comp4'] <= w1, 1, 0 )\n",
    "final_data['comp1_2ndwarning'] = final_data['comp1_1stwarning']\n",
    "final_data['comp2_2ndwarning'] = final_data['comp2_1stwarning']\n",
    "final_data['comp3_2ndwarning'] = final_data['comp3_1stwarning']\n",
    "final_data['comp4_2ndwarning'] = final_data['comp4_1stwarning']\n",
    "\n",
    "\n",
    "final_data.loc[final_data['RULtillFail_comp1'] <= w0, 'comp1_2ndwarning'] = 2\n",
    "final_data.loc[final_data['RULtillFail_comp2'] <= w0, 'comp2_2ndwarning'] = 2\n",
    "final_data.loc[final_data['RULtillFail_comp3'] <= w0, 'comp3_2ndwarning'] = 2\n",
    "final_data.loc[final_data['RULtillFail_comp4'] <= w0, 'comp4_2ndwarning'] = 2"
   ]
  },
  {
   "cell_type": "code",
   "execution_count": null,
   "metadata": {},
   "outputs": [],
   "source": [
    "final_data.loc[(final_data['RULtillFail_comp1'])<0, ['datetime','DateTillMaintain_comp1',\n",
    "       'DateTillMaintain_comp2', 'DateTillMaintain_comp3',\n",
    "       'DateTillMaintain_comp4', 'DateTillFailure_comp1',\n",
    "       'DateTillFailure_comp2', 'DateTillFailure_comp3',\n",
    "       'DateTillFailure_comp4']]"
   ]
  },
  {
   "cell_type": "code",
   "execution_count": 16,
   "metadata": {},
   "outputs": [],
   "source": [
    "#final_data=final_data.loc[final_data['volt']>0]\n",
    "final_data = final_data.dropna()"
   ]
  },
  {
   "cell_type": "code",
   "execution_count": null,
   "metadata": {},
   "outputs": [],
   "source": [
    "cols =['datetime', 'machineID', 'volt', 'rotate', 'pressure', 'vibration',\n",
    "       'model', 'age', 'error4', 'error3', 'error2', 'error1', 'Mantain_comp4',\n",
    "       'Mantain_comp3', 'Mantain_comp2', 'Mantain_comp1', 'fail_comp4',\n",
    "       'fail_comp3', 'fail_comp2', 'fail_comp1','RULtillFail_comp1', 'RULtillFail_comp2',\n",
    "       'RULtillFail_comp3', 'RULtillFail_comp4', 'RULtillMaintain_comp1',\n",
    "       'RULtillMaintain_comp2', 'RULtillMaintain_comp3',\n",
    "       'RULtillMaintain_comp4', 'comp1_1stwarning', 'comp2_1stwarning',\n",
    "       'comp3_1stwarning', 'comp4_1stwarning', 'comp1_2ndwarning',\n",
    "       'comp2_2ndwarning', 'comp3_2ndwarning', 'comp4_2ndwarning']"
   ]
  },
  {
   "cell_type": "code",
   "execution_count": null,
   "metadata": {},
   "outputs": [],
   "source": [
    "train_data = final_data.loc[(final_data['datetime'])<'2015-08-01',cols ]\n",
    "test_data = final_data.loc[(final_data['datetime'])>='2015-08-01',cols]"
   ]
  },
  {
   "cell_type": "code",
   "execution_count": null,
   "metadata": {},
   "outputs": [],
   "source": [
    "del final_data"
   ]
  },
  {
   "cell_type": "markdown",
   "metadata": {},
   "source": [
    "# Method 1: LSTM network"
   ]
  },
  {
   "cell_type": "code",
   "execution_count": null,
   "metadata": {},
   "outputs": [],
   "source": [
    "cols_normalize = train_data.columns.difference(['datetime','machineID','model','RULtillFail_comp1', 'RULtillFail_comp2',\n",
    "       'RULtillFail_comp3', 'RULtillFail_comp4', 'RULtillMaintain_comp1',\n",
    "       'RULtillMaintain_comp2', 'RULtillMaintain_comp3',\n",
    "       'RULtillMaintain_comp4','comp1_1stwarning', 'comp2_1stwarning',\n",
    "       'comp3_1stwarning', 'comp4_1stwarning', 'comp1_2ndwarning',\n",
    "       'comp2_2ndwarning', 'comp3_2ndwarning', 'comp4_2ndwarning'])\n",
    "min_max_scaler = preprocessing.MinMaxScaler()\n",
    "norm_train_df = pandas.DataFrame(min_max_scaler.fit_transform(train_data[cols_normalize]), \n",
    "                             columns=cols_normalize, \n",
    "                             index=train_data.index)\n",
    "join_df = train_data[train_data.columns.difference(cols_normalize)].join(norm_train_df)\n",
    "train_data = join_df.reindex(columns = train_data.columns)"
   ]
  },
  {
   "cell_type": "code",
   "execution_count": null,
   "metadata": {},
   "outputs": [],
   "source": [
    "norm_test_df = pandas.DataFrame(min_max_scaler.transform(test_data[cols_normalize]), \n",
    "                            columns=cols_normalize, \n",
    "                            index=test_data.index)\n",
    "test_join_df = test_data[test_data.columns.difference(cols_normalize)].join(norm_test_df)\n",
    "test_data = test_join_df.reindex(columns = test_data.columns)\n",
    "test_data = test_data.reset_index(drop=True)"
   ]
  },
  {
   "cell_type": "code",
   "execution_count": null,
   "metadata": {},
   "outputs": [],
   "source": [
    "# pick a large window size of 50 cycles\n",
    "sequence_length = 50\n",
    "\n",
    "# function to reshape features into (samples, time steps, features) \n",
    "def gen_sequence(id_df, seq_length, seq_cols):\n",
    "    \"\"\" Only sequences that meet the window-length are considered, no padding is used. This means for testing\n",
    "    we need to drop those which are below the window-length. An alternative would be to pad sequences so that\n",
    "    we can use shorter ones \"\"\"\n",
    "    # for one id I put all the rows in a single matrix\n",
    "    data_matrix = id_df[seq_cols].values\n",
    "    num_elements = data_matrix.shape[0]\n",
    "    # Iterate over two lists in parallel.\n",
    "    # For example id1 have 192 rows and sequence_length is equal to 50\n",
    "    # so zip iterate over two following list of numbers (0,112),(50,192)\n",
    "    # 0 50 -> from row 0 to row 50\n",
    "    # 1 51 -> from row 1 to row 51\n",
    "    # 2 52 -> from row 2 to row 52\n",
    "    # ...\n",
    "    # 111 191 -> from row 111 to 191\n",
    "    for start, stop in zip(range(0, num_elements-seq_length), range(seq_length, num_elements)):\n",
    "        yield data_matrix[start:stop, :]\n",
    "        "
   ]
  },
  {
   "cell_type": "code",
   "execution_count": null,
   "metadata": {},
   "outputs": [],
   "source": [
    "sequence_cols = ['volt', 'rotate', 'pressure', 'vibration', 'age']"
   ]
  },
  {
   "cell_type": "code",
   "execution_count": null,
   "metadata": {},
   "outputs": [],
   "source": [
    "seq_gen = (list(gen_sequence(train_data[train_data['machineID']==id], sequence_length, sequence_cols)) \n",
    "           for id in train_data['machineID'].unique())\n"
   ]
  },
  {
   "cell_type": "code",
   "execution_count": null,
   "metadata": {
    "scrolled": true
   },
   "outputs": [],
   "source": [
    "seq_array = numpy.concatenate(list(seq_gen)).astype(numpy.float32)\n",
    "seq_array.shape"
   ]
  },
  {
   "cell_type": "code",
   "execution_count": null,
   "metadata": {},
   "outputs": [],
   "source": [
    "def gen_labels(id_df, seq_length, label):\n",
    "    # For one id I put all the labels in a single matrix.\n",
    "    # For example:\n",
    "    # [[1]\n",
    "    # [4]\n",
    "    # [1]\n",
    "    # [5]\n",
    "    # [9]\n",
    "    # ...\n",
    "    # [200]] \n",
    "    data_matrix = id_df[label].values\n",
    "    num_elements = data_matrix.shape[0]\n",
    "    # I have to remove the first seq_length labels\n",
    "    # because for one id the first sequence of seq_length size have as target\n",
    "    # the last label (the previus ones are discarded).\n",
    "    # All the next id's sequences will have associated step by step one label as target. \n",
    "    return data_matrix[seq_length:num_elements, :]\n"
   ]
  },
  {
   "cell_type": "code",
   "execution_count": null,
   "metadata": {},
   "outputs": [],
   "source": [
    "# generate labels\n",
    "label_gen = [gen_labels(train_data[train_data['machineID']==id], sequence_length, ['comp1_1stwarning']) \n",
    "             for id in train_data['machineID'].unique()]\n",
    "label_array = numpy.concatenate(label_gen).astype(numpy.float32)\n",
    "label_array.shape\n"
   ]
  },
  {
   "cell_type": "code",
   "execution_count": null,
   "metadata": {},
   "outputs": [],
   "source": [
    "model_path = 'binary_model.h5'\n",
    "nb_features = seq_array.shape[2]\n",
    "nb_out = label_array.shape[1]\n",
    "\n",
    "model = Sequential()\n",
    "\n",
    "model.add(LSTM(\n",
    "         input_shape=(sequence_length, nb_features),\n",
    "         units=100,\n",
    "         return_sequences=True))\n",
    "model.add(Dropout(0.2))\n",
    "\n",
    "model.add(LSTM(\n",
    "          units=50,\n",
    "          return_sequences=False))\n",
    "model.add(Dropout(0.2))\n",
    "\n",
    "model.add(Dense(units=nb_out, activation='sigmoid'))\n",
    "model.compile(loss='binary_crossentropy', optimizer='adam', metrics=['accuracy'])\n",
    "\n",
    "print(model.summary())\n",
    "\n",
    "# fit the network\n"
   ]
  },
  {
   "cell_type": "code",
   "execution_count": null,
   "metadata": {},
   "outputs": [],
   "source": [
    "history = model.fit(seq_array, label_array, epochs=100, batch_size=200, validation_split=0.05, verbose=2,\n",
    "          callbacks = [keras.callbacks.EarlyStopping(monitor='val_loss', min_delta=0, patience=10, verbose=0, mode='min'),\n",
    "                       keras.callbacks.ModelCheckpoint(model_path,monitor='val_loss', save_best_only=True, mode='min', verbose=0)]\n",
    "          )\n"
   ]
  },
  {
   "cell_type": "code",
   "execution_count": null,
   "metadata": {},
   "outputs": [],
   "source": [
    "# list all data in history\n",
    "print(history.history.keys())\n",
    "\n",
    "# summarize history for Accuracy\n",
    "fig_acc = plt.figure(figsize=(10, 10))\n",
    "plt.plot(history.history['acc'])\n",
    "plt.plot(history.history['val_acc'])\n",
    "plt.title('model accuracy')\n",
    "plt.ylabel('accuracy')\n",
    "plt.xlabel('epoch')\n",
    "plt.legend(['train', 'test'], loc='upper left')\n",
    "plt.show()\n",
    "fig_acc.savefig(\"model_accuracy.png\")\n",
    "\n"
   ]
  },
  {
   "cell_type": "code",
   "execution_count": null,
   "metadata": {},
   "outputs": [],
   "source": [
    "fig_acc = plt.figure(figsize=(10, 10))\n",
    "plt.plot(history.history['loss'])\n",
    "plt.plot(history.history['val_loss'])\n",
    "plt.title('model loss')\n",
    "plt.ylabel('loss')\n",
    "plt.xlabel('epoch')\n",
    "plt.legend(['train', 'test'], loc='upper left')\n",
    "plt.show()\n",
    "fig_acc.savefig(\"model_loss.png\")\n"
   ]
  },
  {
   "cell_type": "code",
   "execution_count": null,
   "metadata": {},
   "outputs": [],
   "source": [
    "# training metrics\n",
    "scores = model.evaluate(seq_array, label_array, verbose=1, batch_size=200)\n",
    "print('Accurracy: {}'.format(scores[1]))\n",
    "\n",
    "# make predictions and compute confusion matrix\n",
    "y_pred = model.predict_classes(seq_array,verbose=1, batch_size=200)\n",
    "y_true = label_array\n"
   ]
  },
  {
   "cell_type": "markdown",
   "metadata": {},
   "source": [
    "# Method 2: random forest - not as time series"
   ]
  },
  {
   "cell_type": "code",
   "execution_count": null,
   "metadata": {},
   "outputs": [],
   "source": [
    "from sklearn.ensemble import RandomForestClassifier\n",
    "from sklearn.metrics import accuracy_score,f1_score, confusion_matrix\n",
    "from sklearn.externals import joblib"
   ]
  },
  {
   "cell_type": "code",
   "execution_count": null,
   "metadata": {},
   "outputs": [],
   "source": [
    "def classifer_comp(predictor):\n",
    "    cls = RandomForestClassifier(verbose=3)\n",
    "    cls.fit(train_data[['machineID', 'volt', 'rotate', 'pressure', 'vibration', 'age']],train_data[[predictor]].values.ravel())\n",
    "    print(cls.feature_importances_)\n",
    "    test_data_1= test_data[160000:190000]\n",
    "    predictions = cls.predict(test_data_1[['machineID', 'volt', 'rotate', 'pressure', 'vibration', 'age']])\n",
    "    print(accuracy_score(test_data_1[predictor], predictions))\n",
    "    print(f1_score(test_data_1[predictor], predictions, average='macro'))\n",
    "    print(confusion_matrix(test_data_1[predictor], predictions, labels=[0,1,2]))\n",
    "    joblib.dump(cls, 'Model_'+predictor+'NoTimeSeries.pkl') "
   ]
  },
  {
   "cell_type": "code",
   "execution_count": null,
   "metadata": {},
   "outputs": [],
   "source": [
    "y_predict = ['comp1_1stwarning', 'comp2_1stwarning',\n",
    "       'comp3_1stwarning', 'comp4_1stwarning', 'comp1_2ndwarning',\n",
    "       'comp2_2ndwarning', 'comp3_2ndwarning', 'comp4_2ndwarning']\n",
    "for val in y_predict:\n",
    "    classifer_comp(val)"
   ]
  },
  {
   "cell_type": "code",
   "execution_count": null,
   "metadata": {
    "scrolled": true
   },
   "outputs": [],
   "source": [
    "train_data.loc[:,['datetime', 'machineID', 'volt', 'rotate', 'pressure', 'vibration','model', 'age']]"
   ]
  },
  {
   "cell_type": "code",
   "execution_count": null,
   "metadata": {},
   "outputs": [],
   "source": [
    "cls.fit(train_data[['machineID', 'volt', 'rotate', 'pressure', 'vibration', 'age']],train_data[['comp1_2ndwarning']].values.ravel())\n"
   ]
  },
  {
   "cell_type": "code",
   "execution_count": null,
   "metadata": {},
   "outputs": [],
   "source": [
    "print(cls.feature_importances_)"
   ]
  },
  {
   "cell_type": "code",
   "execution_count": null,
   "metadata": {},
   "outputs": [],
   "source": [
    "del train_data"
   ]
  },
  {
   "cell_type": "code",
   "execution_count": null,
   "metadata": {
    "scrolled": true
   },
   "outputs": [],
   "source": [
    "test_data_1= test_data[160000:190000]\n",
    "test_data_1[['datetime','machineID', 'volt', 'rotate', 'pressure', 'vibration', 'age', 'comp1_2ndwarning']].groupby('comp1_2ndwarning').count()\n",
    "                                                                                                                    "
   ]
  },
  {
   "cell_type": "code",
   "execution_count": null,
   "metadata": {},
   "outputs": [],
   "source": [
    "predictions = cls.predict(test_data_1[['machineID', 'volt', 'rotate', 'pressure', 'vibration', 'age']])"
   ]
  },
  {
   "cell_type": "code",
   "execution_count": null,
   "metadata": {
    "scrolled": true
   },
   "outputs": [],
   "source": [
    "predictions"
   ]
  },
  {
   "cell_type": "code",
   "execution_count": null,
   "metadata": {},
   "outputs": [],
   "source": [
    "test_data_1['comp1_2ndwarning'].ravel()"
   ]
  },
  {
   "cell_type": "code",
   "execution_count": null,
   "metadata": {},
   "outputs": [],
   "source": [
    "errors = abs(predictions - test_data_1['comp1_2ndwarning'])"
   ]
  },
  {
   "cell_type": "code",
   "execution_count": null,
   "metadata": {},
   "outputs": [],
   "source": [
    "round(numpy.mean(errors), 2)"
   ]
  },
  {
   "cell_type": "code",
   "execution_count": null,
   "metadata": {},
   "outputs": [],
   "source": [
    "from sklearn.metrics import accuracy_score,f1_score\n",
    "print(accuracy_score(test_data_1['comp1_2ndwarning'], predictions))\n",
    "print(f1_score(test_data_1['comp1_2ndwarning'], predictions, average='macro'))"
   ]
  },
  {
   "cell_type": "code",
   "execution_count": null,
   "metadata": {},
   "outputs": [],
   "source": [
    "from sklearn.metrics import confusion_matrix\n",
    "confusion_matrix(test_data_1['comp1_2ndwarning'], predictions, labels=[0,1,2])"
   ]
  },
  {
   "cell_type": "code",
   "execution_count": null,
   "metadata": {},
   "outputs": [],
   "source": []
  },
  {
   "cell_type": "code",
   "execution_count": null,
   "metadata": {},
   "outputs": [],
   "source": []
  },
  {
   "cell_type": "markdown",
   "metadata": {},
   "source": [
    "# Method 3: Random Forest for time-series data"
   ]
  },
  {
   "cell_type": "markdown",
   "metadata": {},
   "source": [
    "# PreProcessing- Add std dev, varience, mean of last 24 hours"
   ]
  },
  {
   "cell_type": "code",
   "execution_count": 2,
   "metadata": {},
   "outputs": [
    {
     "name": "stderr",
     "output_type": "stream",
     "text": [
      "/Users/abhi/miniconda3/lib/python3.6/site-packages/IPython/core/interactiveshell.py:2728: DtypeWarning: Columns (24,25,26,27) have mixed types. Specify dtype option on import or set low_memory=False.\n",
      "  interactivity=interactivity, compiler=compiler, result=result)\n"
     ]
    }
   ],
   "source": [
    "final_data= pandas.read_csv('predictors_sql_data.csv')"
   ]
  },
  {
   "cell_type": "code",
   "execution_count": 3,
   "metadata": {},
   "outputs": [
    {
     "data": {
      "text/plain": [
       "datetime                  8764644\n",
       "machineID                 8764644\n",
       "volt                      8764644\n",
       "rotate                    8764644\n",
       "pressure                  8764644\n",
       "vibration                 8764644\n",
       "model                     8764644\n",
       "age                       8764644\n",
       "error4                    8764644\n",
       "error3                    8764644\n",
       "error2                    8764644\n",
       "error1                    8764644\n",
       "Mantain_comp4             8764644\n",
       "Mantain_comp3             8764644\n",
       "Mantain_comp2             8764644\n",
       "Mantain_comp1             8764644\n",
       "fail_comp4                8764644\n",
       "fail_comp3                8764644\n",
       "fail_comp2                8764644\n",
       "fail_comp1                8764644\n",
       "DateTillMaintain_comp1    8764644\n",
       "DateTillMaintain_comp2    8764603\n",
       "DateTillMaintain_comp3    8764603\n",
       "DateTillMaintain_comp4    8764585\n",
       "DateTillFailure_comp1     8740280\n",
       "DateTillFailure_comp2     8740528\n",
       "DateTillFailure_comp3     8740614\n",
       "DateTillFailure_comp4     8740267\n",
       "RULtillFail_comp1         8740280\n",
       "RULtillFail_comp2         8740528\n",
       "RULtillFail_comp3         8740614\n",
       "RULtillFail_comp4         8740267\n",
       "RULtillMaintain_comp1     8764644\n",
       "RULtillMaintain_comp2     8764603\n",
       "RULtillMaintain_comp3     8764603\n",
       "RULtillMaintain_comp4     8764585\n",
       "comp1_1stwarning          8764644\n",
       "comp2_1stwarning          8764644\n",
       "comp3_1stwarning          8764644\n",
       "comp4_1stwarning          8764644\n",
       "comp1_2ndwarning          8764644\n",
       "comp2_2ndwarning          8764644\n",
       "comp3_2ndwarning          8764644\n",
       "comp4_2ndwarning          8764644\n",
       "dtype: int64"
      ]
     },
     "execution_count": 3,
     "metadata": {},
     "output_type": "execute_result"
    }
   ],
   "source": [
    "final_data.count()"
   ]
  },
  {
   "cell_type": "code",
   "execution_count": null,
   "metadata": {},
   "outputs": [],
   "source": [
    "final_data = final_data.loc[((final_data['datetime'])>='2015-01-01') & ((final_data['datetime'])<'2016-01-01')]"
   ]
  },
  {
   "cell_type": "code",
   "execution_count": 4,
   "metadata": {},
   "outputs": [],
   "source": [
    "w1 = 11\n",
    "w0 = 7\n",
    "final_data['comp1_1stwarning'] = numpy.where(final_data['RULtillFail_comp1'] <= w1, 1, 0 )\n",
    "final_data['comp2_1stwarning'] = numpy.where(final_data['RULtillFail_comp2'] <= w1, 1, 0 )\n",
    "final_data['comp3_1stwarning'] = numpy.where(final_data['RULtillFail_comp3'] <= w1, 1, 0 )\n",
    "final_data['comp4_1stwarning'] = numpy.where(final_data['RULtillFail_comp4'] <= w1, 1, 0 )\n",
    "final_data['comp1_2ndwarning'] = final_data['comp1_1stwarning']\n",
    "final_data['comp2_2ndwarning'] = final_data['comp2_1stwarning']\n",
    "final_data['comp3_2ndwarning'] = final_data['comp3_1stwarning']\n",
    "final_data['comp4_2ndwarning'] = final_data['comp4_1stwarning']\n",
    "\n",
    "\n",
    "final_data.loc[final_data['RULtillFail_comp1'] <= w0, 'comp1_2ndwarning'] = 2\n",
    "final_data.loc[final_data['RULtillFail_comp2'] <= w0, 'comp2_2ndwarning'] = 2\n",
    "final_data.loc[final_data['RULtillFail_comp3'] <= w0, 'comp3_2ndwarning'] = 2\n",
    "final_data.loc[final_data['RULtillFail_comp4'] <= w0, 'comp4_2ndwarning'] = 2\n",
    "\n",
    "final_data = final_data.dropna()"
   ]
  },
  {
   "cell_type": "code",
   "execution_count": 5,
   "metadata": {},
   "outputs": [],
   "source": [
    "final_data['PressureMean'] = final_data.groupby('machineID').pressure.rolling(window=24,min_periods=1).mean().reset_index(level=0, drop=True)\n",
    "final_data['VoltMean'] = final_data.groupby('machineID').volt.rolling(window=24,min_periods=1).mean().reset_index(level=0, drop=True)\n",
    "final_data['RotateMean'] = final_data.groupby('machineID').rotate.rolling(window=24,min_periods=1).mean().reset_index(level=0, drop=True)\n",
    "final_data['VibrationMean'] = final_data.groupby('machineID').vibration.rolling(window=24,min_periods=1).mean().reset_index(level=0, drop=True)\n",
    "\n"
   ]
  },
  {
   "cell_type": "code",
   "execution_count": 6,
   "metadata": {},
   "outputs": [],
   "source": [
    "final_data['PressureStd'] = final_data.groupby('machineID').pressure.rolling(window=24,min_periods=0).std().reset_index(level=0, drop=True)\n",
    "final_data['VoltStd'] = final_data.groupby('machineID').volt.rolling(window=24,min_periods=0).std().reset_index(level=0, drop=True)\n",
    "final_data['RotateStd'] = final_data.groupby('machineID').rotate.rolling(window=24,min_periods=0).std().reset_index(level=0, drop=True)\n",
    "final_data['VibrationStd'] = final_data.groupby('machineID').vibration.rolling(window=24,min_periods=0).std().reset_index(level=0, drop=True)"
   ]
  },
  {
   "cell_type": "code",
   "execution_count": 7,
   "metadata": {},
   "outputs": [],
   "source": [
    "final_data['PressureMed'] = final_data.groupby('machineID').pressure.rolling(window=24,min_periods=0).median().reset_index(level=0, drop=True)\n",
    "final_data['VoltMed'] = final_data.groupby('machineID').volt.rolling(window=24,min_periods=0).median().reset_index(level=0, drop=True)\n",
    "final_data['RotateMed'] = final_data.groupby('machineID').rotate.rolling(window=24,min_periods=0).median().reset_index(level=0, drop=True)\n",
    "final_data['VibrationMed'] = final_data.groupby('machineID').vibration.rolling(window=24,min_periods=0).median().reset_index(level=0, drop=True)"
   ]
  },
  {
   "cell_type": "code",
   "execution_count": 8,
   "metadata": {
    "scrolled": true
   },
   "outputs": [
    {
     "data": {
      "text/html": [
       "<div>\n",
       "<style scoped>\n",
       "    .dataframe tbody tr th:only-of-type {\n",
       "        vertical-align: middle;\n",
       "    }\n",
       "\n",
       "    .dataframe tbody tr th {\n",
       "        vertical-align: top;\n",
       "    }\n",
       "\n",
       "    .dataframe thead th {\n",
       "        text-align: right;\n",
       "    }\n",
       "</style>\n",
       "<table border=\"1\" class=\"dataframe\">\n",
       "  <thead>\n",
       "    <tr style=\"text-align: right;\">\n",
       "      <th></th>\n",
       "      <th>machineID</th>\n",
       "      <th>datetime</th>\n",
       "      <th>PressureMean</th>\n",
       "      <th>pressure</th>\n",
       "      <th>PressureStd</th>\n",
       "      <th>PressureMed</th>\n",
       "    </tr>\n",
       "  </thead>\n",
       "  <tbody>\n",
       "    <tr>\n",
       "      <th>4643</th>\n",
       "      <td>1</td>\n",
       "      <td>2015-01-01 06:00:00</td>\n",
       "      <td>101.788175</td>\n",
       "      <td>101.788175</td>\n",
       "      <td>NaN</td>\n",
       "      <td>101.788175</td>\n",
       "    </tr>\n",
       "    <tr>\n",
       "      <th>5581</th>\n",
       "      <td>1</td>\n",
       "      <td>2015-01-01 07:00:00</td>\n",
       "      <td>107.522092</td>\n",
       "      <td>113.256009</td>\n",
       "      <td>8.108983</td>\n",
       "      <td>107.522092</td>\n",
       "    </tr>\n",
       "    <tr>\n",
       "      <th>6642</th>\n",
       "      <td>1</td>\n",
       "      <td>2015-01-01 08:00:00</td>\n",
       "      <td>107.610383</td>\n",
       "      <td>107.786965</td>\n",
       "      <td>5.735956</td>\n",
       "      <td>107.786965</td>\n",
       "    </tr>\n",
       "    <tr>\n",
       "      <th>7398</th>\n",
       "      <td>1</td>\n",
       "      <td>2015-01-01 09:00:00</td>\n",
       "      <td>107.778742</td>\n",
       "      <td>108.283817</td>\n",
       "      <td>4.695477</td>\n",
       "      <td>108.035391</td>\n",
       "    </tr>\n",
       "    <tr>\n",
       "      <th>7775</th>\n",
       "      <td>1</td>\n",
       "      <td>2015-01-01 10:00:00</td>\n",
       "      <td>107.733655</td>\n",
       "      <td>107.553307</td>\n",
       "      <td>4.067652</td>\n",
       "      <td>107.786965</td>\n",
       "    </tr>\n",
       "    <tr>\n",
       "      <th>8946</th>\n",
       "      <td>1</td>\n",
       "      <td>2015-01-01 11:00:00</td>\n",
       "      <td>104.380379</td>\n",
       "      <td>87.614001</td>\n",
       "      <td>8.983506</td>\n",
       "      <td>107.670136</td>\n",
       "    </tr>\n",
       "    <tr>\n",
       "      <th>10583</th>\n",
       "      <td>1</td>\n",
       "      <td>2015-01-01 12:00:00</td>\n",
       "      <td>101.997093</td>\n",
       "      <td>87.697380</td>\n",
       "      <td>10.344717</td>\n",
       "      <td>107.553307</td>\n",
       "    </tr>\n",
       "    <tr>\n",
       "      <th>11189</th>\n",
       "      <td>1</td>\n",
       "      <td>2015-01-01 13:00:00</td>\n",
       "      <td>102.755924</td>\n",
       "      <td>108.067734</td>\n",
       "      <td>9.814895</td>\n",
       "      <td>107.670136</td>\n",
       "    </tr>\n",
       "    <tr>\n",
       "      <th>12416</th>\n",
       "      <td>1</td>\n",
       "      <td>2015-01-01 14:00:00</td>\n",
       "      <td>102.686586</td>\n",
       "      <td>102.131884</td>\n",
       "      <td>9.183349</td>\n",
       "      <td>107.553307</td>\n",
       "    </tr>\n",
       "    <tr>\n",
       "      <th>13617</th>\n",
       "      <td>1</td>\n",
       "      <td>2015-01-01 15:00:00</td>\n",
       "      <td>101.513046</td>\n",
       "      <td>90.951189</td>\n",
       "      <td>9.419948</td>\n",
       "      <td>104.842596</td>\n",
       "    </tr>\n",
       "    <tr>\n",
       "      <th>13733</th>\n",
       "      <td>1</td>\n",
       "      <td>2015-01-01 16:00:00</td>\n",
       "      <td>101.866977</td>\n",
       "      <td>105.406282</td>\n",
       "      <td>9.013313</td>\n",
       "      <td>105.406282</td>\n",
       "    </tr>\n",
       "    <tr>\n",
       "      <th>15633</th>\n",
       "      <td>1</td>\n",
       "      <td>2015-01-01 17:00:00</td>\n",
       "      <td>101.304629</td>\n",
       "      <td>95.118809</td>\n",
       "      <td>8.811878</td>\n",
       "      <td>103.769083</td>\n",
       "    </tr>\n",
       "    <tr>\n",
       "      <th>15725</th>\n",
       "      <td>1</td>\n",
       "      <td>2015-01-01 18:00:00</td>\n",
       "      <td>100.561588</td>\n",
       "      <td>91.645094</td>\n",
       "      <td>8.851885</td>\n",
       "      <td>102.131884</td>\n",
       "    </tr>\n",
       "    <tr>\n",
       "      <th>17000</th>\n",
       "      <td>1</td>\n",
       "      <td>2015-01-01 19:00:00</td>\n",
       "      <td>100.115476</td>\n",
       "      <td>94.316018</td>\n",
       "      <td>8.666874</td>\n",
       "      <td>101.960030</td>\n",
       "    </tr>\n",
       "    <tr>\n",
       "      <th>18604</th>\n",
       "      <td>1</td>\n",
       "      <td>2015-01-01 20:00:00</td>\n",
       "      <td>100.426547</td>\n",
       "      <td>104.781534</td>\n",
       "      <td>8.438060</td>\n",
       "      <td>102.131884</td>\n",
       "    </tr>\n",
       "    <tr>\n",
       "      <th>18655</th>\n",
       "      <td>1</td>\n",
       "      <td>2015-01-01 21:00:00</td>\n",
       "      <td>100.025360</td>\n",
       "      <td>94.007560</td>\n",
       "      <td>8.308390</td>\n",
       "      <td>101.960030</td>\n",
       "    </tr>\n",
       "    <tr>\n",
       "      <th>19838</th>\n",
       "      <td>1</td>\n",
       "      <td>2015-01-01 22:00:00</td>\n",
       "      <td>99.766963</td>\n",
       "      <td>95.632614</td>\n",
       "      <td>8.114806</td>\n",
       "      <td>101.788175</td>\n",
       "    </tr>\n",
       "    <tr>\n",
       "      <th>20733</th>\n",
       "      <td>1</td>\n",
       "      <td>2015-01-01 23:00:00</td>\n",
       "      <td>100.449887</td>\n",
       "      <td>112.059589</td>\n",
       "      <td>8.388770</td>\n",
       "      <td>101.960030</td>\n",
       "    </tr>\n",
       "    <tr>\n",
       "      <th>22509</th>\n",
       "      <td>1</td>\n",
       "      <td>2015-01-02 00:00:00</td>\n",
       "      <td>100.713539</td>\n",
       "      <td>105.459279</td>\n",
       "      <td>8.233024</td>\n",
       "      <td>102.131884</td>\n",
       "    </tr>\n",
       "    <tr>\n",
       "      <th>23198</th>\n",
       "      <td>1</td>\n",
       "      <td>2015-01-02 01:00:00</td>\n",
       "      <td>101.252537</td>\n",
       "      <td>111.493494</td>\n",
       "      <td>8.368126</td>\n",
       "      <td>103.456709</td>\n",
       "    </tr>\n",
       "    <tr>\n",
       "      <th>24440</th>\n",
       "      <td>1</td>\n",
       "      <td>2015-01-02 02:00:00</td>\n",
       "      <td>102.227879</td>\n",
       "      <td>121.734718</td>\n",
       "      <td>9.300613</td>\n",
       "      <td>104.781534</td>\n",
       "    </tr>\n",
       "    <tr>\n",
       "      <th>25554</th>\n",
       "      <td>1</td>\n",
       "      <td>2015-01-02 03:00:00</td>\n",
       "      <td>102.273164</td>\n",
       "      <td>103.224164</td>\n",
       "      <td>9.078954</td>\n",
       "      <td>104.002849</td>\n",
       "    </tr>\n",
       "    <tr>\n",
       "      <th>25855</th>\n",
       "      <td>1</td>\n",
       "      <td>2015-01-02 04:00:00</td>\n",
       "      <td>101.893977</td>\n",
       "      <td>93.551849</td>\n",
       "      <td>9.054707</td>\n",
       "      <td>103.224164</td>\n",
       "    </tr>\n",
       "    <tr>\n",
       "      <th>27485</th>\n",
       "      <td>1</td>\n",
       "      <td>2015-01-02 05:00:00</td>\n",
       "      <td>101.688285</td>\n",
       "      <td>96.957384</td>\n",
       "      <td>8.912825</td>\n",
       "      <td>102.678024</td>\n",
       "    </tr>\n",
       "    <tr>\n",
       "      <th>28431</th>\n",
       "      <td>1</td>\n",
       "      <td>2015-01-02 06:00:00</td>\n",
       "      <td>101.060533</td>\n",
       "      <td>86.722114</td>\n",
       "      <td>9.421536</td>\n",
       "      <td>102.678024</td>\n",
       "    </tr>\n",
       "    <tr>\n",
       "      <th>29045</th>\n",
       "      <td>1</td>\n",
       "      <td>2015-01-02 07:00:00</td>\n",
       "      <td>100.808449</td>\n",
       "      <td>107.206002</td>\n",
       "      <td>9.158305</td>\n",
       "      <td>102.678024</td>\n",
       "    </tr>\n",
       "    <tr>\n",
       "      <th>30498</th>\n",
       "      <td>1</td>\n",
       "      <td>2015-01-02 08:00:00</td>\n",
       "      <td>100.576049</td>\n",
       "      <td>102.209351</td>\n",
       "      <td>9.043569</td>\n",
       "      <td>102.170617</td>\n",
       "    </tr>\n",
       "    <tr>\n",
       "      <th>30925</th>\n",
       "      <td>1</td>\n",
       "      <td>2015-01-02 09:00:00</td>\n",
       "      <td>100.058473</td>\n",
       "      <td>95.862000</td>\n",
       "      <td>8.938108</td>\n",
       "      <td>99.544634</td>\n",
       "    </tr>\n",
       "    <tr>\n",
       "      <th>31676</th>\n",
       "      <td>1</td>\n",
       "      <td>2015-01-02 10:00:00</td>\n",
       "      <td>99.623156</td>\n",
       "      <td>97.105698</td>\n",
       "      <td>8.810722</td>\n",
       "      <td>97.031541</td>\n",
       "    </tr>\n",
       "    <tr>\n",
       "      <th>32994</th>\n",
       "      <td>1</td>\n",
       "      <td>2015-01-02 11:00:00</td>\n",
       "      <td>100.812633</td>\n",
       "      <td>116.161451</td>\n",
       "      <td>9.042898</td>\n",
       "      <td>99.618791</td>\n",
       "    </tr>\n",
       "    <tr>\n",
       "      <th>...</th>\n",
       "      <td>...</td>\n",
       "      <td>...</td>\n",
       "      <td>...</td>\n",
       "      <td>...</td>\n",
       "      <td>...</td>\n",
       "      <td>...</td>\n",
       "    </tr>\n",
       "    <tr>\n",
       "      <th>8711542</th>\n",
       "      <td>1000</td>\n",
       "      <td>2015-12-30 01:00:00</td>\n",
       "      <td>101.457591</td>\n",
       "      <td>97.514813</td>\n",
       "      <td>7.387710</td>\n",
       "      <td>103.031277</td>\n",
       "    </tr>\n",
       "    <tr>\n",
       "      <th>8712346</th>\n",
       "      <td>1000</td>\n",
       "      <td>2015-12-30 02:00:00</td>\n",
       "      <td>102.151007</td>\n",
       "      <td>107.820967</td>\n",
       "      <td>7.158463</td>\n",
       "      <td>103.972030</td>\n",
       "    </tr>\n",
       "    <tr>\n",
       "      <th>8712761</th>\n",
       "      <td>1000</td>\n",
       "      <td>2015-12-30 03:00:00</td>\n",
       "      <td>102.390184</td>\n",
       "      <td>107.989822</td>\n",
       "      <td>7.257116</td>\n",
       "      <td>104.264256</td>\n",
       "    </tr>\n",
       "    <tr>\n",
       "      <th>8713689</th>\n",
       "      <td>1000</td>\n",
       "      <td>2015-12-30 04:00:00</td>\n",
       "      <td>101.274528</td>\n",
       "      <td>79.065826</td>\n",
       "      <td>8.631471</td>\n",
       "      <td>103.972030</td>\n",
       "    </tr>\n",
       "    <tr>\n",
       "      <th>8715282</th>\n",
       "      <td>1000</td>\n",
       "      <td>2015-12-30 05:00:00</td>\n",
       "      <td>101.099149</td>\n",
       "      <td>103.149206</td>\n",
       "      <td>8.544810</td>\n",
       "      <td>103.481094</td>\n",
       "    </tr>\n",
       "    <tr>\n",
       "      <th>8716538</th>\n",
       "      <td>1000</td>\n",
       "      <td>2015-12-30 06:00:00</td>\n",
       "      <td>101.022064</td>\n",
       "      <td>102.904113</td>\n",
       "      <td>8.518708</td>\n",
       "      <td>103.026660</td>\n",
       "    </tr>\n",
       "    <tr>\n",
       "      <th>8717285</th>\n",
       "      <td>1000</td>\n",
       "      <td>2015-12-30 07:00:00</td>\n",
       "      <td>100.226076</td>\n",
       "      <td>82.178951</td>\n",
       "      <td>9.345684</td>\n",
       "      <td>103.026660</td>\n",
       "    </tr>\n",
       "    <tr>\n",
       "      <th>8717786</th>\n",
       "      <td>1000</td>\n",
       "      <td>2015-12-30 08:00:00</td>\n",
       "      <td>101.549322</td>\n",
       "      <td>124.197954</td>\n",
       "      <td>10.385748</td>\n",
       "      <td>103.481094</td>\n",
       "    </tr>\n",
       "    <tr>\n",
       "      <th>8719578</th>\n",
       "      <td>1000</td>\n",
       "      <td>2015-12-30 09:00:00</td>\n",
       "      <td>101.143271</td>\n",
       "      <td>81.112234</td>\n",
       "      <td>10.994600</td>\n",
       "      <td>103.481094</td>\n",
       "    </tr>\n",
       "    <tr>\n",
       "      <th>8720579</th>\n",
       "      <td>1000</td>\n",
       "      <td>2015-12-30 10:00:00</td>\n",
       "      <td>100.616912</td>\n",
       "      <td>86.974948</td>\n",
       "      <td>11.367387</td>\n",
       "      <td>103.481094</td>\n",
       "    </tr>\n",
       "    <tr>\n",
       "      <th>8721185</th>\n",
       "      <td>1000</td>\n",
       "      <td>2015-12-30 11:00:00</td>\n",
       "      <td>99.912180</td>\n",
       "      <td>91.025623</td>\n",
       "      <td>11.417873</td>\n",
       "      <td>103.026660</td>\n",
       "    </tr>\n",
       "    <tr>\n",
       "      <th>8722048</th>\n",
       "      <td>1000</td>\n",
       "      <td>2015-12-30 12:00:00</td>\n",
       "      <td>100.065219</td>\n",
       "      <td>110.217203</td>\n",
       "      <td>11.534648</td>\n",
       "      <td>103.026660</td>\n",
       "    </tr>\n",
       "    <tr>\n",
       "      <th>8723307</th>\n",
       "      <td>1000</td>\n",
       "      <td>2015-12-30 13:00:00</td>\n",
       "      <td>99.345518</td>\n",
       "      <td>89.600571</td>\n",
       "      <td>11.629858</td>\n",
       "      <td>101.718883</td>\n",
       "    </tr>\n",
       "    <tr>\n",
       "      <th>8724587</th>\n",
       "      <td>1000</td>\n",
       "      <td>2015-12-30 14:00:00</td>\n",
       "      <td>99.471678</td>\n",
       "      <td>103.561496</td>\n",
       "      <td>11.659692</td>\n",
       "      <td>103.026660</td>\n",
       "    </tr>\n",
       "    <tr>\n",
       "      <th>8725255</th>\n",
       "      <td>1000</td>\n",
       "      <td>2015-12-30 15:00:00</td>\n",
       "      <td>99.123894</td>\n",
       "      <td>95.784272</td>\n",
       "      <td>11.639135</td>\n",
       "      <td>100.521846</td>\n",
       "    </tr>\n",
       "    <tr>\n",
       "      <th>8726222</th>\n",
       "      <td>1000</td>\n",
       "      <td>2015-12-30 16:00:00</td>\n",
       "      <td>100.272647</td>\n",
       "      <td>123.581269</td>\n",
       "      <td>12.636388</td>\n",
       "      <td>103.026660</td>\n",
       "    </tr>\n",
       "    <tr>\n",
       "      <th>8726805</th>\n",
       "      <td>1000</td>\n",
       "      <td>2015-12-30 17:00:00</td>\n",
       "      <td>100.279719</td>\n",
       "      <td>104.567160</td>\n",
       "      <td>12.638844</td>\n",
       "      <td>103.026660</td>\n",
       "    </tr>\n",
       "    <tr>\n",
       "      <th>8728159</th>\n",
       "      <td>1000</td>\n",
       "      <td>2015-12-30 18:00:00</td>\n",
       "      <td>99.386656</td>\n",
       "      <td>76.706075</td>\n",
       "      <td>13.522965</td>\n",
       "      <td>103.026660</td>\n",
       "    </tr>\n",
       "    <tr>\n",
       "      <th>8729435</th>\n",
       "      <td>1000</td>\n",
       "      <td>2015-12-30 19:00:00</td>\n",
       "      <td>99.418250</td>\n",
       "      <td>107.982370</td>\n",
       "      <td>13.542943</td>\n",
       "      <td>103.026660</td>\n",
       "    </tr>\n",
       "    <tr>\n",
       "      <th>8729649</th>\n",
       "      <td>1000</td>\n",
       "      <td>2015-12-30 20:00:00</td>\n",
       "      <td>99.543422</td>\n",
       "      <td>117.665914</td>\n",
       "      <td>13.702897</td>\n",
       "      <td>103.026660</td>\n",
       "    </tr>\n",
       "    <tr>\n",
       "      <th>8731134</th>\n",
       "      <td>1000</td>\n",
       "      <td>2015-12-30 21:00:00</td>\n",
       "      <td>99.399774</td>\n",
       "      <td>109.531978</td>\n",
       "      <td>13.573380</td>\n",
       "      <td>103.026660</td>\n",
       "    </tr>\n",
       "    <tr>\n",
       "      <th>8731933</th>\n",
       "      <td>1000</td>\n",
       "      <td>2015-12-30 22:00:00</td>\n",
       "      <td>99.694020</td>\n",
       "      <td>110.874894</td>\n",
       "      <td>13.748623</td>\n",
       "      <td>103.026660</td>\n",
       "    </tr>\n",
       "    <tr>\n",
       "      <th>8732923</th>\n",
       "      <td>1000</td>\n",
       "      <td>2015-12-30 23:00:00</td>\n",
       "      <td>100.642810</td>\n",
       "      <td>105.907783</td>\n",
       "      <td>13.335849</td>\n",
       "      <td>103.355351</td>\n",
       "    </tr>\n",
       "    <tr>\n",
       "      <th>8733932</th>\n",
       "      <td>1000</td>\n",
       "      <td>2015-12-31 00:00:00</td>\n",
       "      <td>100.998386</td>\n",
       "      <td>104.045813</td>\n",
       "      <td>13.306835</td>\n",
       "      <td>103.803655</td>\n",
       "    </tr>\n",
       "    <tr>\n",
       "      <th>8735467</th>\n",
       "      <td>1000</td>\n",
       "      <td>2015-12-31 01:00:00</td>\n",
       "      <td>101.600435</td>\n",
       "      <td>111.964008</td>\n",
       "      <td>13.468261</td>\n",
       "      <td>104.306486</td>\n",
       "    </tr>\n",
       "    <tr>\n",
       "      <th>8735761</th>\n",
       "      <td>1000</td>\n",
       "      <td>2015-12-31 02:00:00</td>\n",
       "      <td>101.613763</td>\n",
       "      <td>108.140823</td>\n",
       "      <td>13.474840</td>\n",
       "      <td>104.306486</td>\n",
       "    </tr>\n",
       "    <tr>\n",
       "      <th>8737513</th>\n",
       "      <td>1000</td>\n",
       "      <td>2015-12-31 03:00:00</td>\n",
       "      <td>101.299366</td>\n",
       "      <td>100.444307</td>\n",
       "      <td>13.407463</td>\n",
       "      <td>103.803655</td>\n",
       "    </tr>\n",
       "    <tr>\n",
       "      <th>8738108</th>\n",
       "      <td>1000</td>\n",
       "      <td>2015-12-31 04:00:00</td>\n",
       "      <td>102.093247</td>\n",
       "      <td>98.118964</td>\n",
       "      <td>12.571777</td>\n",
       "      <td>103.803655</td>\n",
       "    </tr>\n",
       "    <tr>\n",
       "      <th>8739071</th>\n",
       "      <td>1000</td>\n",
       "      <td>2015-12-31 05:00:00</td>\n",
       "      <td>101.947178</td>\n",
       "      <td>99.643543</td>\n",
       "      <td>12.579338</td>\n",
       "      <td>103.803655</td>\n",
       "    </tr>\n",
       "    <tr>\n",
       "      <th>8739929</th>\n",
       "      <td>1000</td>\n",
       "      <td>2015-12-31 06:00:00</td>\n",
       "      <td>101.885336</td>\n",
       "      <td>101.419902</td>\n",
       "      <td>12.578078</td>\n",
       "      <td>103.803655</td>\n",
       "    </tr>\n",
       "  </tbody>\n",
       "</table>\n",
       "<p>8736623 rows × 6 columns</p>\n",
       "</div>"
      ],
      "text/plain": [
       "         machineID             datetime  PressureMean    pressure  \\\n",
       "4643             1  2015-01-01 06:00:00    101.788175  101.788175   \n",
       "5581             1  2015-01-01 07:00:00    107.522092  113.256009   \n",
       "6642             1  2015-01-01 08:00:00    107.610383  107.786965   \n",
       "7398             1  2015-01-01 09:00:00    107.778742  108.283817   \n",
       "7775             1  2015-01-01 10:00:00    107.733655  107.553307   \n",
       "8946             1  2015-01-01 11:00:00    104.380379   87.614001   \n",
       "10583            1  2015-01-01 12:00:00    101.997093   87.697380   \n",
       "11189            1  2015-01-01 13:00:00    102.755924  108.067734   \n",
       "12416            1  2015-01-01 14:00:00    102.686586  102.131884   \n",
       "13617            1  2015-01-01 15:00:00    101.513046   90.951189   \n",
       "13733            1  2015-01-01 16:00:00    101.866977  105.406282   \n",
       "15633            1  2015-01-01 17:00:00    101.304629   95.118809   \n",
       "15725            1  2015-01-01 18:00:00    100.561588   91.645094   \n",
       "17000            1  2015-01-01 19:00:00    100.115476   94.316018   \n",
       "18604            1  2015-01-01 20:00:00    100.426547  104.781534   \n",
       "18655            1  2015-01-01 21:00:00    100.025360   94.007560   \n",
       "19838            1  2015-01-01 22:00:00     99.766963   95.632614   \n",
       "20733            1  2015-01-01 23:00:00    100.449887  112.059589   \n",
       "22509            1  2015-01-02 00:00:00    100.713539  105.459279   \n",
       "23198            1  2015-01-02 01:00:00    101.252537  111.493494   \n",
       "24440            1  2015-01-02 02:00:00    102.227879  121.734718   \n",
       "25554            1  2015-01-02 03:00:00    102.273164  103.224164   \n",
       "25855            1  2015-01-02 04:00:00    101.893977   93.551849   \n",
       "27485            1  2015-01-02 05:00:00    101.688285   96.957384   \n",
       "28431            1  2015-01-02 06:00:00    101.060533   86.722114   \n",
       "29045            1  2015-01-02 07:00:00    100.808449  107.206002   \n",
       "30498            1  2015-01-02 08:00:00    100.576049  102.209351   \n",
       "30925            1  2015-01-02 09:00:00    100.058473   95.862000   \n",
       "31676            1  2015-01-02 10:00:00     99.623156   97.105698   \n",
       "32994            1  2015-01-02 11:00:00    100.812633  116.161451   \n",
       "...            ...                  ...           ...         ...   \n",
       "8711542       1000  2015-12-30 01:00:00    101.457591   97.514813   \n",
       "8712346       1000  2015-12-30 02:00:00    102.151007  107.820967   \n",
       "8712761       1000  2015-12-30 03:00:00    102.390184  107.989822   \n",
       "8713689       1000  2015-12-30 04:00:00    101.274528   79.065826   \n",
       "8715282       1000  2015-12-30 05:00:00    101.099149  103.149206   \n",
       "8716538       1000  2015-12-30 06:00:00    101.022064  102.904113   \n",
       "8717285       1000  2015-12-30 07:00:00    100.226076   82.178951   \n",
       "8717786       1000  2015-12-30 08:00:00    101.549322  124.197954   \n",
       "8719578       1000  2015-12-30 09:00:00    101.143271   81.112234   \n",
       "8720579       1000  2015-12-30 10:00:00    100.616912   86.974948   \n",
       "8721185       1000  2015-12-30 11:00:00     99.912180   91.025623   \n",
       "8722048       1000  2015-12-30 12:00:00    100.065219  110.217203   \n",
       "8723307       1000  2015-12-30 13:00:00     99.345518   89.600571   \n",
       "8724587       1000  2015-12-30 14:00:00     99.471678  103.561496   \n",
       "8725255       1000  2015-12-30 15:00:00     99.123894   95.784272   \n",
       "8726222       1000  2015-12-30 16:00:00    100.272647  123.581269   \n",
       "8726805       1000  2015-12-30 17:00:00    100.279719  104.567160   \n",
       "8728159       1000  2015-12-30 18:00:00     99.386656   76.706075   \n",
       "8729435       1000  2015-12-30 19:00:00     99.418250  107.982370   \n",
       "8729649       1000  2015-12-30 20:00:00     99.543422  117.665914   \n",
       "8731134       1000  2015-12-30 21:00:00     99.399774  109.531978   \n",
       "8731933       1000  2015-12-30 22:00:00     99.694020  110.874894   \n",
       "8732923       1000  2015-12-30 23:00:00    100.642810  105.907783   \n",
       "8733932       1000  2015-12-31 00:00:00    100.998386  104.045813   \n",
       "8735467       1000  2015-12-31 01:00:00    101.600435  111.964008   \n",
       "8735761       1000  2015-12-31 02:00:00    101.613763  108.140823   \n",
       "8737513       1000  2015-12-31 03:00:00    101.299366  100.444307   \n",
       "8738108       1000  2015-12-31 04:00:00    102.093247   98.118964   \n",
       "8739071       1000  2015-12-31 05:00:00    101.947178   99.643543   \n",
       "8739929       1000  2015-12-31 06:00:00    101.885336  101.419902   \n",
       "\n",
       "         PressureStd  PressureMed  \n",
       "4643             NaN   101.788175  \n",
       "5581        8.108983   107.522092  \n",
       "6642        5.735956   107.786965  \n",
       "7398        4.695477   108.035391  \n",
       "7775        4.067652   107.786965  \n",
       "8946        8.983506   107.670136  \n",
       "10583      10.344717   107.553307  \n",
       "11189       9.814895   107.670136  \n",
       "12416       9.183349   107.553307  \n",
       "13617       9.419948   104.842596  \n",
       "13733       9.013313   105.406282  \n",
       "15633       8.811878   103.769083  \n",
       "15725       8.851885   102.131884  \n",
       "17000       8.666874   101.960030  \n",
       "18604       8.438060   102.131884  \n",
       "18655       8.308390   101.960030  \n",
       "19838       8.114806   101.788175  \n",
       "20733       8.388770   101.960030  \n",
       "22509       8.233024   102.131884  \n",
       "23198       8.368126   103.456709  \n",
       "24440       9.300613   104.781534  \n",
       "25554       9.078954   104.002849  \n",
       "25855       9.054707   103.224164  \n",
       "27485       8.912825   102.678024  \n",
       "28431       9.421536   102.678024  \n",
       "29045       9.158305   102.678024  \n",
       "30498       9.043569   102.170617  \n",
       "30925       8.938108    99.544634  \n",
       "31676       8.810722    97.031541  \n",
       "32994       9.042898    99.618791  \n",
       "...              ...          ...  \n",
       "8711542     7.387710   103.031277  \n",
       "8712346     7.158463   103.972030  \n",
       "8712761     7.257116   104.264256  \n",
       "8713689     8.631471   103.972030  \n",
       "8715282     8.544810   103.481094  \n",
       "8716538     8.518708   103.026660  \n",
       "8717285     9.345684   103.026660  \n",
       "8717786    10.385748   103.481094  \n",
       "8719578    10.994600   103.481094  \n",
       "8720579    11.367387   103.481094  \n",
       "8721185    11.417873   103.026660  \n",
       "8722048    11.534648   103.026660  \n",
       "8723307    11.629858   101.718883  \n",
       "8724587    11.659692   103.026660  \n",
       "8725255    11.639135   100.521846  \n",
       "8726222    12.636388   103.026660  \n",
       "8726805    12.638844   103.026660  \n",
       "8728159    13.522965   103.026660  \n",
       "8729435    13.542943   103.026660  \n",
       "8729649    13.702897   103.026660  \n",
       "8731134    13.573380   103.026660  \n",
       "8731933    13.748623   103.026660  \n",
       "8732923    13.335849   103.355351  \n",
       "8733932    13.306835   103.803655  \n",
       "8735467    13.468261   104.306486  \n",
       "8735761    13.474840   104.306486  \n",
       "8737513    13.407463   103.803655  \n",
       "8738108    12.571777   103.803655  \n",
       "8739071    12.579338   103.803655  \n",
       "8739929    12.578078   103.803655  \n",
       "\n",
       "[8736623 rows x 6 columns]"
      ]
     },
     "execution_count": 8,
     "metadata": {},
     "output_type": "execute_result"
    }
   ],
   "source": [
    "final_data[['machineID','datetime','PressureMean', 'pressure', 'PressureStd','PressureMed'] ].sort_values(['machineID','datetime'])"
   ]
  },
  {
   "cell_type": "code",
   "execution_count": 9,
   "metadata": {},
   "outputs": [],
   "source": [
    "train_data = final_data.loc[(final_data['datetime'])<'2015-08-01']\n",
    "test_data = final_data.loc[(final_data['datetime'])>='2015-08-01']"
   ]
  },
  {
   "cell_type": "code",
   "execution_count": 10,
   "metadata": {},
   "outputs": [],
   "source": [
    "test_data = test_data.fillna(0)\n",
    "train_data = train_data.fillna(0)\n",
    "del final_data"
   ]
  },
  {
   "cell_type": "code",
   "execution_count": 11,
   "metadata": {},
   "outputs": [],
   "source": [
    "from sklearn.ensemble import RandomForestClassifier\n",
    "from sklearn.metrics import accuracy_score,f1_score, confusion_matrix\n",
    "from sklearn.externals import joblib"
   ]
  },
  {
   "cell_type": "code",
   "execution_count": 22,
   "metadata": {},
   "outputs": [],
   "source": [
    "def classifer_comp_time(predictor):\n",
    "    cls = RandomForestClassifier(verbose=3)\n",
    "    cls.fit(train_data[['machineID', 'volt', 'rotate', 'pressure', 'vibration', 'age','PressureMean', 'PressureStd','PressureMed', 'VoltMean', 'VoltStd','VoltMed','VibrationMean', 'VibrationStd','VibrationMed','RotateMean','RotateStd','RotateMed','error4','Mantain_comp4']],train_data[[predictor]].values.ravel())\n",
    "    print(cls.feature_importances_)\n",
    "    test_data_1= test_data[160000:190000]\n",
    "    predictions = cls.predict(test_data_1[['machineID', 'volt', 'rotate', 'pressure', 'vibration', 'age','PressureMean', 'PressureStd','PressureMed', 'VoltMean', 'VoltStd','VoltMed','VibrationMean', 'VibrationStd','VibrationMed','RotateMean','RotateStd','RotateMed','error4','Mantain_comp4']])\n",
    "    print(accuracy_score(test_data_1[predictor], predictions))\n",
    "    print(f1_score(test_data_1[predictor], predictions, average='macro'))\n",
    "    print(confusion_matrix(test_data_1[predictor], predictions, labels=[0,1,2]))\n",
    "    joblib.dump(cls, 'Model_'+predictor+'TimeSeries.pkl') "
   ]
  },
  {
   "cell_type": "code",
   "execution_count": 23,
   "metadata": {},
   "outputs": [
    {
     "name": "stdout",
     "output_type": "stream",
     "text": [
      "building tree 1 of 10\n"
     ]
    },
    {
     "name": "stderr",
     "output_type": "stream",
     "text": [
      "[Parallel(n_jobs=1)]: Done   1 out of   1 | elapsed:  2.8min remaining:    0.0s\n"
     ]
    },
    {
     "name": "stdout",
     "output_type": "stream",
     "text": [
      "building tree 2 of 10\n"
     ]
    },
    {
     "name": "stderr",
     "output_type": "stream",
     "text": [
      "[Parallel(n_jobs=1)]: Done   2 out of   2 | elapsed:  6.1min remaining:    0.0s\n"
     ]
    },
    {
     "name": "stdout",
     "output_type": "stream",
     "text": [
      "building tree 3 of 10\n",
      "building tree 4 of 10\n",
      "building tree 5 of 10\n",
      "building tree 6 of 10\n",
      "building tree 7 of 10\n",
      "building tree 8 of 10\n",
      "building tree 9 of 10\n",
      "building tree 10 of 10\n"
     ]
    },
    {
     "name": "stderr",
     "output_type": "stream",
     "text": [
      "[Parallel(n_jobs=1)]: Done  10 out of  10 | elapsed: 30.0min finished\n"
     ]
    },
    {
     "name": "stdout",
     "output_type": "stream",
     "text": [
      "[  5.74454611e-02   5.41121068e-02   5.42442510e-02   5.39271829e-02\n",
      "   5.40073113e-02   3.90272779e-02   5.63679266e-02   5.83049018e-02\n",
      "   5.70753434e-02   5.64331987e-02   5.84871836e-02   5.71560881e-02\n",
      "   5.62388630e-02   5.82188316e-02   5.68655828e-02   5.64234807e-02\n",
      "   5.82389686e-02   5.69783388e-02   2.88975826e-05   4.18803751e-04]\n"
     ]
    },
    {
     "name": "stderr",
     "output_type": "stream",
     "text": [
      "[Parallel(n_jobs=1)]: Done   1 out of   1 | elapsed:    0.1s remaining:    0.0s\n",
      "[Parallel(n_jobs=1)]: Done   2 out of   2 | elapsed:    0.1s remaining:    0.0s\n",
      "[Parallel(n_jobs=1)]: Done  10 out of  10 | elapsed:    0.6s finished\n"
     ]
    },
    {
     "name": "stdout",
     "output_type": "stream",
     "text": [
      "0.461466666667\n",
      "0.301214736837\n",
      "[[12213   622  2636]\n",
      " [ 5510   256  1234]\n",
      " [ 5828   326  1375]]\n"
     ]
    }
   ],
   "source": [
    "classifer_comp_time('comp4_2ndwarning')"
   ]
  },
  {
   "cell_type": "code",
   "execution_count": 21,
   "metadata": {},
   "outputs": [
    {
     "data": {
      "text/html": [
       "<div>\n",
       "<style scoped>\n",
       "    .dataframe tbody tr th:only-of-type {\n",
       "        vertical-align: middle;\n",
       "    }\n",
       "\n",
       "    .dataframe tbody tr th {\n",
       "        vertical-align: top;\n",
       "    }\n",
       "\n",
       "    .dataframe thead th {\n",
       "        text-align: right;\n",
       "    }\n",
       "</style>\n",
       "<table border=\"1\" class=\"dataframe\">\n",
       "  <thead>\n",
       "    <tr style=\"text-align: right;\">\n",
       "      <th></th>\n",
       "      <th>datetime</th>\n",
       "      <th>machineID</th>\n",
       "      <th>volt</th>\n",
       "      <th>rotate</th>\n",
       "      <th>pressure</th>\n",
       "      <th>vibration</th>\n",
       "      <th>model</th>\n",
       "      <th>age</th>\n",
       "      <th>error4</th>\n",
       "      <th>error3</th>\n",
       "      <th>...</th>\n",
       "      <th>RotateMean</th>\n",
       "      <th>VibrationMean</th>\n",
       "      <th>PressureStd</th>\n",
       "      <th>VoltStd</th>\n",
       "      <th>RotateStd</th>\n",
       "      <th>VibrationStd</th>\n",
       "      <th>PressureMed</th>\n",
       "      <th>VoltMed</th>\n",
       "      <th>RotateMed</th>\n",
       "      <th>VibrationMed</th>\n",
       "    </tr>\n",
       "    <tr>\n",
       "      <th>comp4_2ndwarning</th>\n",
       "      <th></th>\n",
       "      <th></th>\n",
       "      <th></th>\n",
       "      <th></th>\n",
       "      <th></th>\n",
       "      <th></th>\n",
       "      <th></th>\n",
       "      <th></th>\n",
       "      <th></th>\n",
       "      <th></th>\n",
       "      <th></th>\n",
       "      <th></th>\n",
       "      <th></th>\n",
       "      <th></th>\n",
       "      <th></th>\n",
       "      <th></th>\n",
       "      <th></th>\n",
       "      <th></th>\n",
       "      <th></th>\n",
       "      <th></th>\n",
       "      <th></th>\n",
       "    </tr>\n",
       "  </thead>\n",
       "  <tbody>\n",
       "    <tr>\n",
       "      <th>0</th>\n",
       "      <td>15471</td>\n",
       "      <td>15471</td>\n",
       "      <td>15471</td>\n",
       "      <td>15471</td>\n",
       "      <td>15471</td>\n",
       "      <td>15471</td>\n",
       "      <td>15471</td>\n",
       "      <td>15471</td>\n",
       "      <td>15471</td>\n",
       "      <td>15471</td>\n",
       "      <td>...</td>\n",
       "      <td>15471</td>\n",
       "      <td>15471</td>\n",
       "      <td>15471</td>\n",
       "      <td>15471</td>\n",
       "      <td>15471</td>\n",
       "      <td>15471</td>\n",
       "      <td>15471</td>\n",
       "      <td>15471</td>\n",
       "      <td>15471</td>\n",
       "      <td>15471</td>\n",
       "    </tr>\n",
       "    <tr>\n",
       "      <th>1</th>\n",
       "      <td>7000</td>\n",
       "      <td>7000</td>\n",
       "      <td>7000</td>\n",
       "      <td>7000</td>\n",
       "      <td>7000</td>\n",
       "      <td>7000</td>\n",
       "      <td>7000</td>\n",
       "      <td>7000</td>\n",
       "      <td>7000</td>\n",
       "      <td>7000</td>\n",
       "      <td>...</td>\n",
       "      <td>7000</td>\n",
       "      <td>7000</td>\n",
       "      <td>7000</td>\n",
       "      <td>7000</td>\n",
       "      <td>7000</td>\n",
       "      <td>7000</td>\n",
       "      <td>7000</td>\n",
       "      <td>7000</td>\n",
       "      <td>7000</td>\n",
       "      <td>7000</td>\n",
       "    </tr>\n",
       "    <tr>\n",
       "      <th>2</th>\n",
       "      <td>7529</td>\n",
       "      <td>7529</td>\n",
       "      <td>7529</td>\n",
       "      <td>7529</td>\n",
       "      <td>7529</td>\n",
       "      <td>7529</td>\n",
       "      <td>7529</td>\n",
       "      <td>7529</td>\n",
       "      <td>7529</td>\n",
       "      <td>7529</td>\n",
       "      <td>...</td>\n",
       "      <td>7529</td>\n",
       "      <td>7529</td>\n",
       "      <td>7529</td>\n",
       "      <td>7529</td>\n",
       "      <td>7529</td>\n",
       "      <td>7529</td>\n",
       "      <td>7529</td>\n",
       "      <td>7529</td>\n",
       "      <td>7529</td>\n",
       "      <td>7529</td>\n",
       "    </tr>\n",
       "  </tbody>\n",
       "</table>\n",
       "<p>3 rows × 55 columns</p>\n",
       "</div>"
      ],
      "text/plain": [
       "                  datetime  machineID   volt  rotate  pressure  vibration  \\\n",
       "comp4_2ndwarning                                                            \n",
       "0                    15471      15471  15471   15471     15471      15471   \n",
       "1                     7000       7000   7000    7000      7000       7000   \n",
       "2                     7529       7529   7529    7529      7529       7529   \n",
       "\n",
       "                  model    age  error4  error3      ...       RotateMean  \\\n",
       "comp4_2ndwarning                                    ...                    \n",
       "0                 15471  15471   15471   15471      ...            15471   \n",
       "1                  7000   7000    7000    7000      ...             7000   \n",
       "2                  7529   7529    7529    7529      ...             7529   \n",
       "\n",
       "                  VibrationMean  PressureStd  VoltStd  RotateStd  \\\n",
       "comp4_2ndwarning                                                   \n",
       "0                         15471        15471    15471      15471   \n",
       "1                          7000         7000     7000       7000   \n",
       "2                          7529         7529     7529       7529   \n",
       "\n",
       "                  VibrationStd  PressureMed  VoltMed  RotateMed  VibrationMed  \n",
       "comp4_2ndwarning                                                               \n",
       "0                        15471        15471    15471      15471         15471  \n",
       "1                         7000         7000     7000       7000          7000  \n",
       "2                         7529         7529     7529       7529          7529  \n",
       "\n",
       "[3 rows x 55 columns]"
      ]
     },
     "execution_count": 21,
     "metadata": {},
     "output_type": "execute_result"
    }
   ],
   "source": [
    "test_data[160000:190000].groupby('comp4_2ndwarning').count()"
   ]
  },
  {
   "cell_type": "code",
   "execution_count": 18,
   "metadata": {},
   "outputs": [
    {
     "data": {
      "text/html": [
       "<div>\n",
       "<style scoped>\n",
       "    .dataframe tbody tr th:only-of-type {\n",
       "        vertical-align: middle;\n",
       "    }\n",
       "\n",
       "    .dataframe tbody tr th {\n",
       "        vertical-align: top;\n",
       "    }\n",
       "\n",
       "    .dataframe thead th {\n",
       "        text-align: right;\n",
       "    }\n",
       "</style>\n",
       "<table border=\"1\" class=\"dataframe\">\n",
       "  <thead>\n",
       "    <tr style=\"text-align: right;\">\n",
       "      <th></th>\n",
       "      <th>datetime</th>\n",
       "      <th>machineID</th>\n",
       "      <th>volt</th>\n",
       "      <th>rotate</th>\n",
       "      <th>pressure</th>\n",
       "      <th>vibration</th>\n",
       "      <th>model</th>\n",
       "      <th>age</th>\n",
       "      <th>error4</th>\n",
       "      <th>error3</th>\n",
       "      <th>...</th>\n",
       "      <th>RotateMean</th>\n",
       "      <th>VibrationMean</th>\n",
       "      <th>PressureStd</th>\n",
       "      <th>VoltStd</th>\n",
       "      <th>RotateStd</th>\n",
       "      <th>VibrationStd</th>\n",
       "      <th>PressureMed</th>\n",
       "      <th>VoltMed</th>\n",
       "      <th>RotateMed</th>\n",
       "      <th>VibrationMed</th>\n",
       "    </tr>\n",
       "    <tr>\n",
       "      <th>comp4_2ndwarning</th>\n",
       "      <th></th>\n",
       "      <th></th>\n",
       "      <th></th>\n",
       "      <th></th>\n",
       "      <th></th>\n",
       "      <th></th>\n",
       "      <th></th>\n",
       "      <th></th>\n",
       "      <th></th>\n",
       "      <th></th>\n",
       "      <th></th>\n",
       "      <th></th>\n",
       "      <th></th>\n",
       "      <th></th>\n",
       "      <th></th>\n",
       "      <th></th>\n",
       "      <th></th>\n",
       "      <th></th>\n",
       "      <th></th>\n",
       "      <th></th>\n",
       "      <th></th>\n",
       "    </tr>\n",
       "  </thead>\n",
       "  <tbody>\n",
       "    <tr>\n",
       "      <th>0</th>\n",
       "      <td>2690855</td>\n",
       "      <td>2690855</td>\n",
       "      <td>2690855</td>\n",
       "      <td>2690855</td>\n",
       "      <td>2690855</td>\n",
       "      <td>2690855</td>\n",
       "      <td>2690855</td>\n",
       "      <td>2690855</td>\n",
       "      <td>2690855</td>\n",
       "      <td>2690855</td>\n",
       "      <td>...</td>\n",
       "      <td>2690855</td>\n",
       "      <td>2690855</td>\n",
       "      <td>2690855</td>\n",
       "      <td>2690855</td>\n",
       "      <td>2690855</td>\n",
       "      <td>2690855</td>\n",
       "      <td>2690855</td>\n",
       "      <td>2690855</td>\n",
       "      <td>2690855</td>\n",
       "      <td>2690855</td>\n",
       "    </tr>\n",
       "    <tr>\n",
       "      <th>1</th>\n",
       "      <td>816000</td>\n",
       "      <td>816000</td>\n",
       "      <td>816000</td>\n",
       "      <td>816000</td>\n",
       "      <td>816000</td>\n",
       "      <td>816000</td>\n",
       "      <td>816000</td>\n",
       "      <td>816000</td>\n",
       "      <td>816000</td>\n",
       "      <td>816000</td>\n",
       "      <td>...</td>\n",
       "      <td>816000</td>\n",
       "      <td>816000</td>\n",
       "      <td>816000</td>\n",
       "      <td>816000</td>\n",
       "      <td>816000</td>\n",
       "      <td>816000</td>\n",
       "      <td>816000</td>\n",
       "      <td>816000</td>\n",
       "      <td>816000</td>\n",
       "      <td>816000</td>\n",
       "    </tr>\n",
       "    <tr>\n",
       "      <th>2</th>\n",
       "      <td>1575145</td>\n",
       "      <td>1575145</td>\n",
       "      <td>1575145</td>\n",
       "      <td>1575145</td>\n",
       "      <td>1575145</td>\n",
       "      <td>1575145</td>\n",
       "      <td>1575145</td>\n",
       "      <td>1575145</td>\n",
       "      <td>1575145</td>\n",
       "      <td>1575145</td>\n",
       "      <td>...</td>\n",
       "      <td>1575145</td>\n",
       "      <td>1575145</td>\n",
       "      <td>1575145</td>\n",
       "      <td>1575145</td>\n",
       "      <td>1575145</td>\n",
       "      <td>1575145</td>\n",
       "      <td>1575145</td>\n",
       "      <td>1575145</td>\n",
       "      <td>1575145</td>\n",
       "      <td>1575145</td>\n",
       "    </tr>\n",
       "  </tbody>\n",
       "</table>\n",
       "<p>3 rows × 55 columns</p>\n",
       "</div>"
      ],
      "text/plain": [
       "                  datetime  machineID     volt   rotate  pressure  vibration  \\\n",
       "comp4_2ndwarning                                                               \n",
       "0                  2690855    2690855  2690855  2690855   2690855    2690855   \n",
       "1                   816000     816000   816000   816000    816000     816000   \n",
       "2                  1575145    1575145  1575145  1575145   1575145    1575145   \n",
       "\n",
       "                    model      age   error4   error3      ...       \\\n",
       "comp4_2ndwarning                                          ...        \n",
       "0                 2690855  2690855  2690855  2690855      ...        \n",
       "1                  816000   816000   816000   816000      ...        \n",
       "2                 1575145  1575145  1575145  1575145      ...        \n",
       "\n",
       "                  RotateMean  VibrationMean  PressureStd  VoltStd  RotateStd  \\\n",
       "comp4_2ndwarning                                                               \n",
       "0                    2690855        2690855      2690855  2690855    2690855   \n",
       "1                     816000         816000       816000   816000     816000   \n",
       "2                    1575145        1575145      1575145  1575145    1575145   \n",
       "\n",
       "                  VibrationStd  PressureMed  VoltMed  RotateMed  VibrationMed  \n",
       "comp4_2ndwarning                                                               \n",
       "0                      2690855      2690855  2690855    2690855       2690855  \n",
       "1                       816000       816000   816000     816000        816000  \n",
       "2                      1575145      1575145  1575145    1575145       1575145  \n",
       "\n",
       "[3 rows x 55 columns]"
      ]
     },
     "execution_count": 18,
     "metadata": {},
     "output_type": "execute_result"
    }
   ],
   "source": [
    "train_data.groupby('comp4_2ndwarning').count()"
   ]
  },
  {
   "cell_type": "code",
   "execution_count": 17,
   "metadata": {},
   "outputs": [
    {
     "ename": "NameError",
     "evalue": "name 'predictions' is not defined",
     "output_type": "error",
     "traceback": [
      "\u001b[0;31m---------------------------------------------------------------------------\u001b[0m",
      "\u001b[0;31mNameError\u001b[0m                                 Traceback (most recent call last)",
      "\u001b[0;32m<ipython-input-17-2ccce61106bd>\u001b[0m in \u001b[0;36m<module>\u001b[0;34m()\u001b[0m\n\u001b[0;32m----> 1\u001b[0;31m \u001b[0merrors\u001b[0m \u001b[0;34m=\u001b[0m \u001b[0mabs\u001b[0m\u001b[0;34m(\u001b[0m\u001b[0mpredictions\u001b[0m \u001b[0;34m-\u001b[0m \u001b[0mtest_data\u001b[0m\u001b[0;34m[\u001b[0m\u001b[0;36m160000\u001b[0m\u001b[0;34m:\u001b[0m\u001b[0;36m190000\u001b[0m\u001b[0;34m]\u001b[0m\u001b[0;34m.\u001b[0m\u001b[0mcomp1_2ndwarning\u001b[0m\u001b[0;34m)\u001b[0m\u001b[0;34m\u001b[0m\u001b[0m\n\u001b[0m",
      "\u001b[0;31mNameError\u001b[0m: name 'predictions' is not defined"
     ]
    }
   ],
   "source": [
    "errors = abs(predictions - test_data[160000:190000].comp1_2ndwarning)"
   ]
  },
  {
   "cell_type": "code",
   "execution_count": null,
   "metadata": {},
   "outputs": [],
   "source": []
  }
 ],
 "metadata": {
  "kernelspec": {
   "display_name": "Python 3",
   "language": "python",
   "name": "python3"
  },
  "language_info": {
   "codemirror_mode": {
    "name": "ipython",
    "version": 3
   },
   "file_extension": ".py",
   "mimetype": "text/x-python",
   "name": "python",
   "nbconvert_exporter": "python",
   "pygments_lexer": "ipython3",
   "version": "3.6.4"
  }
 },
 "nbformat": 4,
 "nbformat_minor": 2
}
